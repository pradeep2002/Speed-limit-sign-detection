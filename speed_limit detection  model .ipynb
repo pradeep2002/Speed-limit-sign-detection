{
 "cells": [
  {
   "cell_type": "markdown",
   "metadata": {},
   "source": [
    "# Speed Sign Recognition using Deep Learning\n",
    "\n",
    "## Algorithm used -CNN (Convolutional Neural Network)\n"
   ]
  },
  {
   "cell_type": "code",
   "execution_count": null,
   "metadata": {},
   "outputs": [],
   "source": [
    "import numpy as np\n",
    "import cv2\n",
    "import os\n",
    "from sklearn.model_selection import train_test_split\n",
    "import matplotlib.pyplot as plt\n",
    "from keras.preprocessing.image import ImageDataGenerator\n",
    "from keras.utils.np_utils import to_categorical\n",
    "from keras.models import Sequential\n",
    "from keras.layers import Dense\n",
    "from keras.optimizers import Adam\n",
    "from keras.layers import Dropout,Flatten\n",
    "from keras.layers.convolutional import Conv2D,MaxPooling2D\n",
    "import pickle"
   ]
  },
  {
   "cell_type": "markdown",
   "metadata": {},
   "source": [
    "###  Reading Datasets"
   ]
  },
  {
   "cell_type": "code",
   "execution_count": 214,
   "metadata": {},
   "outputs": [],
   "source": [
    "path = 'mypath'\n",
    "testRatio = 0.2\n",
    "valRatio = 0.2\n",
    "imageDimensions= (60,60,3)\n",
    "batchSizeVal= 50\n",
    "epochsVal = 10\n"
   ]
  },
  {
   "cell_type": "code",
   "execution_count": 217,
   "metadata": {},
   "outputs": [
    {
     "name": "stdout",
     "output_type": "stream",
     "text": [
      "Total Classes Detected: 5\n"
     ]
    }
   ],
   "source": [
    "count = 0\n",
    "images = []     # LIST CONTAINING ALL THE IMAGES\n",
    "classNo = []    # LIST CONTAINING ALL THE CORRESPONDING CLASS ID OF IMAGES\n",
    "myList = os.listdir(path)\n",
    "print(\"Total Classes Detected:\",len(myList))\n",
    "noOfClasses = len(myList)"
   ]
  },
  {
   "cell_type": "code",
   "execution_count": 218,
   "metadata": {},
   "outputs": [
    {
     "name": "stdout",
     "output_type": "stream",
     "text": [
      "Total Classes Detected: 5\n",
      "Importing Classes .......\n",
      "0 1 2 3 4  \n",
      "Total Images in Images List =  1528\n",
      "Total IDS in classNo List=  1528\n"
     ]
    }
   ],
   "source": [
    "count = 0\n",
    "images = []     # LIST CONTAINING ALL THE IMAGES\n",
    "classNo = []    # LIST CONTAINING ALL THE CORRESPONDING CLASS ID OF IMAGES\n",
    "myList = os.listdir(path)\n",
    "print(\"Total Classes Detected:\",len(myList))\n",
    "noOfClasses = len(myList)\n",
    "# print(myList)\n",
    "print(\"Importing Classes .......\")\n",
    "for x in range(0,5):\n",
    "    myPicList = os.listdir(path+\"/\"+str(x))\n",
    "#     print(myPicList)\n",
    "    for y in myPicList:\n",
    "        curImg = cv2.imread(path+\"/\"+str(x)+\"/\"+y)\n",
    "        curImg = cv2.resize(curImg,(60,60))\n",
    "        images.append(curImg)\n",
    "        classNo.append(x)\n",
    "    print(x,end= \" \")\n",
    "print(\" \")\n",
    "print(\"Total Images in Images List = \",len(images))\n",
    "print(\"Total IDS in classNo List= \",len(classNo))\n"
   ]
  },
  {
   "cell_type": "markdown",
   "metadata": {},
   "source": [
    "### Spliting training and testing datas\n",
    "First we are converting an image into an numpy array. For easy visulatization of each pixel value of an image."
   ]
  },
  {
   "cell_type": "code",
   "execution_count": 219,
   "metadata": {},
   "outputs": [
    {
     "name": "stdout",
     "output_type": "stream",
     "text": [
      "(1528, 60, 60, 3)\n",
      "(977, 60, 60, 3)\n",
      "(306, 60, 60, 3)\n",
      "(245, 60, 60, 3)\n"
     ]
    }
   ],
   "source": [
    "images = np.array(images)\n",
    "classNo = np.array(classNo)\n",
    "print(images.shape)\n",
    "\n",
    "# SPLITTING THE DATA\n",
    "X_train,X_test,y_train,y_test = train_test_split(images,classNo,test_size=testRatio)\n",
    "X_train,X_validation,y_train,y_validation = train_test_split(X_train,y_train,test_size=valRatio)\n",
    "print(X_train.shape)\n",
    "print(X_test.shape)\n",
    "print(X_validation.shape)"
   ]
  },
  {
   "cell_type": "markdown",
   "metadata": {},
   "source": [
    "### Exploring the total number of images in class"
   ]
  },
  {
   "cell_type": "code",
   "execution_count": 220,
   "metadata": {},
   "outputs": [
    {
     "name": "stdout",
     "output_type": "stream",
     "text": [
      "[149, 202, 220, 206, 200]\n"
     ]
    },
    {
     "data": {
      "image/png": "[encoded data removed]",
      "text/plain": [
       "<Figure size 720x360 with 1 Axes>"
      ]
     },
     "metadata": {
      "needs_background": "light"
     },
     "output_type": "display_data"
    }
   ],
   "source": [
    "numOfSamples= []\n",
    "for x in range(0,noOfClasses):\n",
    "    #print(len(np.where(y_train==x)[0]))\n",
    "    numOfSamples.append(len(np.where(y_train==x)[0]))\n",
    "print(numOfSamples)\n",
    "\n",
    "plt.figure(figsize=(10,5))\n",
    "plt.bar(range(0,noOfClasses),numOfSamples)\n",
    "plt.title(\"No of Images for each Class\")\n",
    "plt.xlabel(\"Class ID\")\n",
    "plt.ylabel(\"Number of Images\")\n",
    "plt.show()"
   ]
  },
  {
   "cell_type": "markdown",
   "metadata": {},
   "source": [
    "### Preprocessing the data\n",
    "\n"
   ]
  },
  {
   "cell_type": "code",
   "execution_count": 221,
   "metadata": {},
   "outputs": [],
   "source": [
    "def preProcessing(img):\n",
    "    img = cv2.cvtColor(img,cv2.COLOR_BGR2GRAY)\n",
    "    img = cv2.equalizeHist(img)\n",
    "    img = img/255\n",
    "    return img\n",
    "\n",
    "X_train= np.array(list(map(preProcessing,X_train)))\n",
    "X_test= np.array(list(map(preProcessing,X_test)))\n",
    "X_validation= np.array(list(map(preProcessing,X_validation)))\n"
   ]
  },
  {
   "cell_type": "code",
   "execution_count": 222,
   "metadata": {},
   "outputs": [],
   "source": [
    "X_train = X_train.reshape(X_train.shape[0],X_train.shape[1],X_train.shape[2],1)\n",
    "X_test = X_test.reshape(X_test.shape[0],X_test.shape[1],X_test.shape[2],1)\n",
    "X_validation = X_validation.reshape(X_validation.shape[0],X_validation.shape[1],X_validation.shape[2],1)\n"
   ]
  },
  {
   "cell_type": "code",
   "execution_count": 223,
   "metadata": {},
   "outputs": [],
   "source": [
    "dataGen = ImageDataGenerator(width_shift_range=0.1,\n",
    "                             height_shift_range=0.1,\n",
    "                             zoom_range=0.2,\n",
    "                             shear_range=0.1,\n",
    "                             rotation_range=10)\n",
    "dataGen.fit(X_train)"
   ]
  },
  {
   "cell_type": "code",
   "execution_count": 224,
   "metadata": {},
   "outputs": [],
   "source": [
    "y_train = to_categorical(y_train,noOfClasses)\n",
    "y_test = to_categorical(y_test,noOfClasses)\n",
    "y_validation = to_categorical(y_validation,noOfClasses)\n"
   ]
  },
  {
   "cell_type": "markdown",
   "metadata": {},
   "source": [
    "## Training the model"
   ]
  },
  {
   "cell_type": "code",
   "execution_count": 225,
   "metadata": {},
   "outputs": [
    {
     "name": "stdout",
     "output_type": "stream",
     "text": [
      "Model: \"sequential_9\"\n",
      "_________________________________________________________________\n",
      "Layer (type)                 Output Shape              Param #   \n",
      "=================================================================\n",
      "conv2d_30 (Conv2D)           (None, 56, 56, 60)        1560      \n",
      "_________________________________________________________________\n",
      "conv2d_31 (Conv2D)           (None, 52, 52, 60)        90060     \n",
      "_________________________________________________________________\n",
      "max_pooling2d_15 (MaxPooling (None, 26, 26, 60)        0         \n",
      "_________________________________________________________________\n",
      "conv2d_32 (Conv2D)           (None, 24, 24, 30)        16230     \n",
      "_________________________________________________________________\n",
      "conv2d_33 (Conv2D)           (None, 22, 22, 30)        8130      \n",
      "_________________________________________________________________\n",
      "max_pooling2d_16 (MaxPooling (None, 11, 11, 30)        0         \n",
      "_________________________________________________________________\n",
      "dropout_14 (Dropout)         (None, 11, 11, 30)        0         \n",
      "_________________________________________________________________\n",
      "flatten_8 (Flatten)          (None, 3630)              0         \n",
      "_________________________________________________________________\n",
      "dense_16 (Dense)             (None, 500)               1815500   \n",
      "_________________________________________________________________\n",
      "dropout_15 (Dropout)         (None, 500)               0         \n",
      "_________________________________________________________________\n",
      "dense_17 (Dense)             (None, 5)                 2505      \n",
      "=================================================================\n",
      "Total params: 1,933,985\n",
      "Trainable params: 1,933,985\n",
      "Non-trainable params: 0\n",
      "_________________________________________________________________\n",
      "None\n"
     ]
    }
   ],
   "source": [
    "def myModel():\n",
    "    noOfFilters = 60\n",
    "    sizeOfFilter1 = (5,5)\n",
    "    sizeOfFilter2 = (3, 3)\n",
    "    sizeOfPool = (2,2)\n",
    "    noOfNodes= 500\n",
    "\n",
    "    model = Sequential()\n",
    "    model.add((Conv2D(noOfFilters,sizeOfFilter1,input_shape=(imageDimensions[0],\n",
    "                      imageDimensions[1],1),activation='relu')))\n",
    "    model.add((Conv2D(noOfFilters, sizeOfFilter1, activation='relu')))\n",
    "    model.add(MaxPooling2D(pool_size=sizeOfPool))\n",
    "    model.add((Conv2D(noOfFilters//2, sizeOfFilter2, activation='relu')))\n",
    "    model.add((Conv2D(noOfFilters//2, sizeOfFilter2, activation='relu')))\n",
    "    model.add(MaxPooling2D(pool_size=sizeOfPool))\n",
    "    model.add(Dropout(0.5))\n",
    "\n",
    "    model.add(Flatten())\n",
    "    model.add(Dense(noOfNodes,activation='relu'))\n",
    "    model.add(Dropout(0.5))\n",
    "    model.add(Dense(noOfClasses, activation='softmax'))\n",
    "\n",
    "    model.compile(Adam(lr=0.001),loss='categorical_crossentropy',metrics=['accuracy'])\n",
    "    return model\n",
    "\n",
    "model = myModel()\n",
    "print(model.summary())\n"
   ]
  },
  {
   "cell_type": "code",
   "execution_count": 226,
   "metadata": {},
   "outputs": [
    {
     "name": "stdout",
     "output_type": "stream",
     "text": [
      "Epoch 1/10\n",
      "20/20 [==============================] - 38s 2s/step - loss: 1.6108 - accuracy: 0.2068 - val_loss: 1.5685 - val_accuracy: 0.3224\n",
      "Epoch 2/10\n",
      "20/20 [==============================] - 41s 2s/step - loss: 1.5594 - accuracy: 0.3153 - val_loss: 1.6223 - val_accuracy: 0.2041\n",
      "Epoch 3/10\n",
      "20/20 [==============================] - 35s 2s/step - loss: 1.5066 - accuracy: 0.3142 - val_loss: 1.4575 - val_accuracy: 0.3224\n",
      "Epoch 4/10\n",
      "20/20 [==============================] - 32s 2s/step - loss: 1.4034 - accuracy: 0.4360 - val_loss: 1.1813 - val_accuracy: 0.5551\n",
      "Epoch 5/10\n",
      "20/20 [==============================] - 32s 2s/step - loss: 1.3034 - accuracy: 0.4698 - val_loss: 1.0417 - val_accuracy: 0.5714\n",
      "Epoch 6/10\n",
      "20/20 [==============================] - 32s 2s/step - loss: 1.1579 - accuracy: 0.5619 - val_loss: 0.8669 - val_accuracy: 0.6735\n",
      "Epoch 7/10\n",
      "20/20 [==============================] - 32s 2s/step - loss: 1.0716 - accuracy: 0.5752 - val_loss: 0.8050 - val_accuracy: 0.7510\n",
      "Epoch 8/10\n",
      "20/20 [==============================] - 32s 2s/step - loss: 0.9866 - accuracy: 0.6203 - val_loss: 0.5959 - val_accuracy: 0.7878\n",
      "Epoch 9/10\n",
      "20/20 [==============================] - 36s 2s/step - loss: 0.8300 - accuracy: 0.6643 - val_loss: 0.4408 - val_accuracy: 0.8531\n",
      "Epoch 10/10\n",
      "20/20 [==============================] - 34s 2s/step - loss: 0.7788 - accuracy: 0.7114 - val_loss: 0.5741 - val_accuracy: 0.8082\n"
     ]
    }
   ],
   "source": [
    "history = model.fit_generator(dataGen.flow(X_train,y_train,\n",
    "                                 batch_size=batchSizeVal),\n",
    "                                 epochs=epochsVal,\n",
    "                                 validation_data=(X_validation,y_validation),\n",
    "                                 shuffle=1)\n"
   ]
  },
  {
   "cell_type": "code",
   "execution_count": 227,
   "metadata": {},
   "outputs": [
    {
     "data": {
      "text/plain": [
       "['loss', 'accuracy']"
      ]
     },
     "execution_count": 227,
     "metadata": {},
     "output_type": "execute_result"
    }
   ],
   "source": [
    "model.metrics_names"
   ]
  },
  {
   "cell_type": "markdown",
   "metadata": {},
   "source": [
    "###  Evaluating the model"
   ]
  },
  {
   "cell_type": "code",
   "execution_count": 228,
   "metadata": {},
   "outputs": [
    {
     "name": "stdout",
     "output_type": "stream",
     "text": [
      "10/10 [==============================] - 2s 230ms/step - loss: 0.4838 - accuracy: 0.8497\n"
     ]
    },
    {
     "data": {
      "text/plain": [
       "[0.483786404132843, 0.8496732115745544]"
      ]
     },
     "execution_count": 228,
     "metadata": {},
     "output_type": "execute_result"
    }
   ],
   "source": [
    "model.evaluate(X_test,y_test)"
   ]
  },
  {
   "cell_type": "markdown",
   "metadata": {},
   "source": [
    "## Saving the model"
   ]
  },
  {
   "cell_type": "code",
   "execution_count": 230,
   "metadata": {},
   "outputs": [
    {
     "name": "stdout",
     "output_type": "stream",
     "text": [
      "Saving the model as mnist.h5\n"
     ]
    }
   ],
   "source": [
    "model.save('speedlimitmodel.h5')\n",
    "print(\"Saving the model as mnist.h5\")"
   ]
  },
  {
   "cell_type": "code",
   "execution_count": null,
   "metadata": {},
   "outputs": [],
   "source": []
  },
  {
   "cell_type": "markdown",
   "metadata": {},
   "source": [
    "## Testing the model on unseen images"
   ]
  },
  {
   "cell_type": "code",
   "execution_count": 292,
   "metadata": {},
   "outputs": [
    {
     "data": {
      "text/plain": [
       "<matplotlib.image.AxesImage at 0x1c281732a60>"
      ]
     },
     "execution_count": 292,
     "metadata": {},
     "output_type": "execute_result"
    },
    {
     "data": {
      "image/png": "[encoded data removed]",
      "text/plain": [
       "<Figure size 432x288 with 1 Axes>"
      ]
     },
     "metadata": {
      "needs_background": "light"
     },
     "output_type": "display_data"
    }
   ],
   "source": [
    "img = cv2.imread('path of new image',cv2.IMREAD_GRAYSCALE)\n",
    "plt.imshow(img,cmap ='gray')"
   ]
  },
  {
   "cell_type": "code",
   "execution_count": 293,
   "metadata": {},
   "outputs": [],
   "source": [
    "img = cv2.equalizeHist(img)\n",
    "img = img/255\n"
   ]
  },
  {
   "cell_type": "code",
   "execution_count": 294,
   "metadata": {},
   "outputs": [],
   "source": [
    "img = cv2.resize(img,(60,60))\n",
    "\n",
    "img = img.reshape(1,60,60,1)\n",
    "\n"
   ]
  },
  {
   "cell_type": "code",
   "execution_count": 295,
   "metadata": {},
   "outputs": [],
   "source": [
    "classIndex = int(model.predict_classes(img))\n",
    "\n",
    "predictions = model.predict(img)\n",
    "\n",
    "probVal= np.amax(predictions)\n",
    "# print(classIndex,probVal)"
   ]
  },
  {
   "cell_type": "code",
   "execution_count": 287,
   "metadata": {},
   "outputs": [
    {
     "name": "stdout",
     "output_type": "stream",
     "text": [
      "the spped limit is predicted as 50 km/h\n"
     ]
    }
   ],
   "source": [
    "if classIndex == 0:\n",
    "    print('the speed limit is predicted as 20 km/h')\n",
    "if classIndex == 1:\n",
    "    print('the speed limit is predicted as 30 km/h')\n",
    "if classIndex == 2:\n",
    "    print('the speed limit is predicted as 50 km/h')\n",
    "if classIndex == 3:\n",
    "    print('the speed limit is predicted as 80 km/h')\n",
    "if classIndex == 4:\n",
    "    print('the speed limit is predicted as 100 km/h')"
   ]
  },
  {
   "cell_type": "code",
   "execution_count": null,
   "metadata": {},
   "outputs": [],
   "source": []
  },
  {
   "cell_type": "code",
   "execution_count": null,
   "metadata": {},
   "outputs": [],
   "source": []
  },
  {
   "cell_type": "code",
   "execution_count": null,
   "metadata": {},
   "outputs": [],
   "source": []
  },
  {
   "cell_type": "code",
   "execution_count": null,
   "metadata": {},
   "outputs": [],
   "source": []
  }
 ],
 "metadata": {
  "kernelspec": {
   "display_name": "Python 3",
   "language": "python",
   "name": "python3"
  },
  "language_info": {
   "codemirror_mode": {
    "name": "ipython",
    "version": 3
   },
   "file_extension": ".py",
   "mimetype": "text/x-python",
   "name": "python",
   "nbconvert_exporter": "python",
   "pygments_lexer": "ipython3",
   "version": "3.8.3"
  }
 },
 "nbformat": 4,
 "nbformat_minor": 4
}
